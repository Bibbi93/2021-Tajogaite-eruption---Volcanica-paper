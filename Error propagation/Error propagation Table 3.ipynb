{
 "cells": [
  {
   "cell_type": "code",
   "execution_count": 1,
   "id": "87182c29-1283-4bcb-a679-dfb80180b61b",
   "metadata": {},
   "outputs": [],
   "source": [
    "from error_propagation import Complex"
   ]
  },
  {
   "cell_type": "code",
   "execution_count": 4,
   "id": "fd690a38-95d5-45b8-89e3-c7d7829d2a76",
   "metadata": {},
   "outputs": [
    {
     "name": "stdout",
     "output_type": "stream",
     "text": [
      "0.014256666679520623 ± 0.005092305926002884\n",
      "19713.17877233888 ± 15075.401865388101\n"
     ]
    }
   ],
   "source": [
    "#15_N sample SN and NV \n",
    "phi = Complex(0.0571229527062051, 0.0131621261638719)          \n",
    "NA = Complex(281.044218951037, 190.040760728317)\n",
    "DCsi = Complex(-4.80, 0.23)\n",
    "exp = Complex(0.5,0)\n",
    "\n",
    "x = Complex.truediv(phi, NA)\n",
    "\n",
    "SN = Complex.pow(x, exp)\n",
    "print(SN)\n",
    "\n",
    "NV = Complex.truediv(NA, SN)\n",
    "print(NV)\n"
   ]
  },
  {
   "cell_type": "code",
   "execution_count": 5,
   "id": "43be8681-46af-4eb1-ac54-0d5df35ac6e2",
   "metadata": {},
   "outputs": [
    {
     "name": "stdout",
     "output_type": "stream",
     "text": [
      "0.010443772075531247 ± 0.0023786581165511815\n",
      "44107.55777123334 ± 18123.677896915084\n"
     ]
    }
   ],
   "source": [
    "#15_M sample SN and NV\n",
    "phi2 = Complex(0.0502441111066058, 0.0151178099794951)          \n",
    "NA2 = Complex(460.649280171088, 157.541160577352)\n",
    "DCsi2 = Complex(-5.46, 0.25)\n",
    "exp2 = Complex(0.5,0)\n",
    "\n",
    "x2 = Complex.truediv(phi2, NA2)\n",
    "\n",
    "SN2 = Complex.pow(x2, exp)\n",
    "print(SN2)\n",
    "\n",
    "NV2 = Complex.truediv(NA2, SN2)\n",
    "print(NV2)"
   ]
  },
  {
   "cell_type": "code",
   "execution_count": 6,
   "id": "abec0da5-72ee-497f-874b-e29bbc6ceb54",
   "metadata": {},
   "outputs": [],
   "source": [
    "#Variables\n",
    "Cw1 = Complex(1,0)\n",
    "Cw2 = Complex(2,0)\n",
    "Cw3 = Complex(3,0)\n",
    "c1 = Complex(11200000,0)\n",
    "c2 = Complex(22400000,0)\n",
    "c3 = Complex(33600000,0)\n",
    "b = Complex(40,0)\n",
    "r_Vn1 = Complex(0.094385925,0)\n",
    "r_Vn2 = Complex(0.07550874,0)\n",
    "a_exp0 = Complex(3,0)\n",
    "a_exp1 = Complex(10,0)\n",
    "a_exp2 = Complex(16,0)\n",
    "a_exp3 = Complex(0.345,0)\n",
    "a_exp4 = Complex(0.65,0)\n",
    "exp_b = Complex(0.666666667,0)\n"
   ]
  },
  {
   "cell_type": "code",
   "execution_count": 7,
   "id": "6dcfe12a-9a9a-48c1-9aa3-4f64d964b3b5",
   "metadata": {},
   "outputs": [
    {
     "name": "stdout",
     "output_type": "stream",
     "text": [
      "148293206096050.3 ± 27094670538187.848\n",
      "0.07293146965083457 ± 0.03822877004965485\n",
      "0.006883704224603447 ± 0.003608257822748969\n"
     ]
    }
   ],
   "source": [
    "#15_N sample - 1 wt.% H2O\n",
    "\n",
    "# variable a = 3 x 1016+0.345ΔCSi-0.65CW\n",
    "\n",
    "a_exppartial1 = Complex.mul(a_exp3, DCsi)\n",
    "a_exppartial2 = Complex.mul(a_exp4, Cw1)\n",
    "a_exppartial3 = Complex.add(a_exppartial1, a_exp2)\n",
    "a_exptot = Complex.sub(a_exppartial3, a_exppartial2)\n",
    "a_1 = Complex.pow(a_exp1, a_exptot)\n",
    "a1 = Complex.mul(a_exp0, a_1)\n",
    "print(a1)\n",
    "\n",
    "#dp/dz |(dP_W)/dz|=c/b (N_v/a)^(2/3)\n",
    "\n",
    "c_b = Complex.truediv(c1, b)\n",
    "NV_a = Complex.truediv(NV, a1)\n",
    "NV_a_exp = Complex.pow(NV_a, exp_b)\n",
    "dP_dz1 = Complex.mul(c_b, NV_a_exp)\n",
    "print (dP_dz1)\n",
    "\n",
    "#Vn V_n=  1/(g×ρ_v )  |〖dP〗_W/dz| \n",
    "\n",
    "Vn = Complex.mul(dP_dz1, r_Vn1)\n",
    "print(Vn)"
   ]
  },
  {
   "cell_type": "code",
   "execution_count": 9,
   "id": "aa4174fb-034c-45c4-983b-19c970b3292a",
   "metadata": {},
   "outputs": [
    {
     "name": "stdout",
     "output_type": "stream",
     "text": [
      "33198713519329.89 ± 6065741167638.59\n",
      "0.3956200508060617 ± 0.20737368959799413\n",
      "0.03734096444387713 ± 0.019573157513369552\n"
     ]
    }
   ],
   "source": [
    "#15_N sample - 2 wt.% H2O\n",
    "\n",
    "# variable a = 3 x 1016+0.345ΔCSi-0.65CW\n",
    "\n",
    "a_exppartial1 = Complex.mul(a_exp3, DCsi)\n",
    "a_exppartial2_2 = Complex.mul(a_exp4, Cw2)\n",
    "a_exppartial3 = Complex.add(a_exppartial1, a_exp2)\n",
    "a_exptot_2 = Complex.sub(a_exppartial3, a_exppartial2_2)\n",
    "a_2 = Complex.pow(a_exp1, a_exptot_2)\n",
    "a2 = Complex.mul(a_exp0, a_2)\n",
    "print(a2)\n",
    "\n",
    "#dp/dz |(dP_W)/dz|=c/b (N_v/a)^(2/3)\n",
    "\n",
    "c_b_2 = Complex.truediv(c2, b)\n",
    "NV_a_2 = Complex.truediv(NV, a2)\n",
    "NV_a_exp_2 = Complex.pow(NV_a_2, exp_b)\n",
    "dP_dz_2 = Complex.mul(c_b_2, NV_a_exp_2)\n",
    "print (dP_dz_2)\n",
    "\n",
    "#Vn V_n=  1/(g×ρ_v )  |〖dP〗_W/dz| \n",
    "\n",
    "Vn_2 = Complex.mul(dP_dz_2, r_Vn1)\n",
    "print(Vn_2)"
   ]
  },
  {
   "cell_type": "code",
   "execution_count": 10,
   "id": "c2d85a90-2aa8-48d5-91e5-c6047863279d",
   "metadata": {},
   "outputs": [
    {
     "name": "stdout",
     "output_type": "stream",
     "text": [
      "7432266172899.828 ± 1357950297307.6702\n",
      "1.6095441242558295 ± 0.8436809583782341\n",
      "0.1519183109962014 ± 0.07963160766141612\n"
     ]
    }
   ],
   "source": [
    "#15_N sample - 3 wt.% H2O\n",
    "\n",
    "# variable a = 3 x 1016+0.345ΔCSi-0.65CW\n",
    "\n",
    "a_exppartial1 = Complex.mul(a_exp3, DCsi)\n",
    "a_exppartial2_3 = Complex.mul(a_exp4, Cw3)\n",
    "a_exppartial3 = Complex.add(a_exppartial1, a_exp2)\n",
    "a_exptot_3 = Complex.sub(a_exppartial3, a_exppartial2_3)\n",
    "a_3 = Complex.pow(a_exp1, a_exptot_3)\n",
    "a3 = Complex.mul(a_exp0, a_3)\n",
    "print(a3)\n",
    "\n",
    "#dp/dz |(dP_W)/dz|=c/b (N_v/a)^(2/3)\n",
    "\n",
    "c_b_3 = Complex.truediv(c3, b)\n",
    "NV_a_3 = Complex.truediv(NV, a3)\n",
    "NV_a_exp_3 = Complex.pow(NV_a_3, exp_b)\n",
    "dP_dz_3 = Complex.mul(c_b_3, NV_a_exp_3)\n",
    "print (dP_dz_3)\n",
    "\n",
    "#Vn V_n=  1/(g×ρ_v )  |〖dP〗_W/dz| \n",
    "\n",
    "Vn_3 = Complex.mul(dP_dz_3, r_Vn1)\n",
    "print(Vn_3)"
   ]
  },
  {
   "cell_type": "code",
   "execution_count": 11,
   "id": "bdd7b01f-6903-46f4-b3a6-aa72f48a41cd",
   "metadata": {},
   "outputs": [
    {
     "name": "stdout",
     "output_type": "stream",
     "text": [
      "87785190256997.28 ± 17433960078158.947\n",
      "0.17696438297875267 ± 0.05384136570699516\n",
      "0.013362357583603062 ± 0.004065493684414414\n"
     ]
    }
   ],
   "source": [
    "#15_M sample - 1 wt.% H2O\n",
    "\n",
    "# variable a = 3 x 1016+0.345ΔCSi-0.65CW\n",
    "\n",
    "a_exppartial1 = Complex.mul(a_exp3, DCsi2)\n",
    "a_exppartial2 = Complex.mul(a_exp4, Cw1)\n",
    "a_exppartial3 = Complex.add(a_exppartial1, a_exp2)\n",
    "a_exptot = Complex.sub(a_exppartial3, a_exppartial2)\n",
    "a_1 = Complex.pow(a_exp1, a_exptot)\n",
    "a1_2 = Complex.mul(a_exp0, a_1)\n",
    "print(a1_2)\n",
    "\n",
    "#dp/dz |(dP_W)/dz|=c/b (N_v/a)^(2/3)\n",
    "\n",
    "c_b = Complex.truediv(c1, b)\n",
    "NV_a2 = Complex.truediv(NV2, a1_2)\n",
    "NV_a_exp2 = Complex.pow(NV_a2, exp_b)\n",
    "dP_dz2 = Complex.mul(c_b, NV_a_exp2)\n",
    "print (dP_dz2)\n",
    "\n",
    "#Vn V_n=  1/(g×ρ_v )  |〖dP〗_W/dz| \n",
    "\n",
    "Vn2 = Complex.mul(dP_dz2, r_Vn2)\n",
    "print(Vn2)"
   ]
  },
  {
   "cell_type": "code",
   "execution_count": 12,
   "id": "69838968-e82b-414f-a8f5-7df874cfe619",
   "metadata": {},
   "outputs": [
    {
     "name": "stdout",
     "output_type": "stream",
     "text": [
      "19652656108158.312 ± 3902977495593.094\n",
      "0.9599512874222786 ± 0.2920649198274509\n",
      "0.07248471217463412 ± 0.022053454094371837\n"
     ]
    }
   ],
   "source": [
    "#15_M sample - 2 wt.% H2O\n",
    "\n",
    "# variable a = 3 x 1016+0.345ΔCSi-0.65CW\n",
    "\n",
    "a_exppartial1 = Complex.mul(a_exp3, DCsi2)\n",
    "a_exppartial2_2 = Complex.mul(a_exp4, Cw2)\n",
    "a_exppartial3 = Complex.add(a_exppartial1, a_exp2)\n",
    "a_exptot_2 = Complex.sub(a_exppartial3, a_exppartial2_2)\n",
    "a_1_2 = Complex.pow(a_exp1, a_exptot_2)\n",
    "a1_2_2 = Complex.mul(a_exp0, a_1_2)\n",
    "print(a1_2_2)\n",
    "\n",
    "#dp/dz |(dP_W)/dz|=c/b (N_v/a)^(2/3)\n",
    "\n",
    "c_b = Complex.truediv(c2, b)\n",
    "NV_a2_2 = Complex.truediv(NV2, a1_2_2)\n",
    "NV_a_exp2_2 = Complex.pow(NV_a2_2, exp_b)\n",
    "dP_dz2_2 = Complex.mul(c_b, NV_a_exp2_2)\n",
    "print (dP_dz2_2)\n",
    "\n",
    "#Vn V_n=  1/(g×ρ_v )  |〖dP〗_W/dz| \n",
    "\n",
    "Vn2_2 = Complex.mul(dP_dz2_2, r_Vn2)\n",
    "print(Vn2_2)"
   ]
  },
  {
   "cell_type": "code",
   "execution_count": 13,
   "id": "4924e10e-eb09-4c39-8cab-78c5b06d9074",
   "metadata": {},
   "outputs": [
    {
     "name": "stdout",
     "output_type": "stream",
     "text": [
      "4399681665834.817 ± 873767822274.0773\n",
      "3.9054743335033053 ± 1.1882395107420092\n",
      "0.29489744602517437 ± 0.08972246827434557\n"
     ]
    }
   ],
   "source": [
    "#15_M sample - 3 wt.% H2O\n",
    "\n",
    "# variable a = 3 x 1016+0.345ΔCSi-0.65CW\n",
    "\n",
    "a_exppartial1 = Complex.mul(a_exp3, DCsi2)\n",
    "a_exppartial2_3 = Complex.mul(a_exp4, Cw3)\n",
    "a_exppartial3 = Complex.add(a_exppartial1, a_exp2)\n",
    "a_exptot_3 = Complex.sub(a_exppartial3, a_exppartial2_3)\n",
    "a_1_3 = Complex.pow(a_exp1, a_exptot_3)\n",
    "a1_2_3 = Complex.mul(a_exp0, a_1_3)\n",
    "print(a1_2_3)\n",
    "\n",
    "#dp/dz |(dP_W)/dz|=c/b (N_v/a)^(2/3)\n",
    "\n",
    "c_b = Complex.truediv(c3, b)\n",
    "NV_a2_3 = Complex.truediv(NV2, a1_2_3)\n",
    "NV_a_exp2_3 = Complex.pow(NV_a2_3, exp_b)\n",
    "dP_dz2_3 = Complex.mul(c_b, NV_a_exp2_3)\n",
    "print (dP_dz2_3)\n",
    "\n",
    "#Vn V_n=  1/(g×ρ_v )  |〖dP〗_W/dz| \n",
    "\n",
    "Vn2_3 = Complex.mul(dP_dz2_3, r_Vn2)\n",
    "print(Vn2_3)"
   ]
  }
 ],
 "metadata": {
  "kernelspec": {
   "display_name": "Python 3 (ipykernel)",
   "language": "python",
   "name": "python3"
  },
  "language_info": {
   "codemirror_mode": {
    "name": "ipython",
    "version": 3
   },
   "file_extension": ".py",
   "mimetype": "text/x-python",
   "name": "python",
   "nbconvert_exporter": "python",
   "pygments_lexer": "ipython3",
   "version": "3.9.13"
  }
 },
 "nbformat": 4,
 "nbformat_minor": 5
}
